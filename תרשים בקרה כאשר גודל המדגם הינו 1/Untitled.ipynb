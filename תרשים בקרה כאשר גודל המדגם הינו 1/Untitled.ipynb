{
 "cells": [
  {
   "cell_type": "code",
   "execution_count": 4,
   "id": "9784afbb",
   "metadata": {},
   "outputs": [],
   "source": [
    "import numpy as np\n",
    "import pandas as pd\n",
    "import scipy.stats as stats\n",
    "import math\n",
    "import matplotlib.pyplot as plt\n",
    "import statistics\n",
    "\n",
    "df = pd.read_csv('One sample size exercise.csv', index_col = 0)"
   ]
  },
  {
   "cell_type": "code",
   "execution_count": 5,
   "id": "7fc2d6a6",
   "metadata": {},
   "outputs": [
    {
     "data": {
      "text/html": [
       "<div>\n",
       "<style scoped>\n",
       "    .dataframe tbody tr th:only-of-type {\n",
       "        vertical-align: middle;\n",
       "    }\n",
       "\n",
       "    .dataframe tbody tr th {\n",
       "        vertical-align: top;\n",
       "    }\n",
       "\n",
       "    .dataframe thead th {\n",
       "        text-align: right;\n",
       "    }\n",
       "</style>\n",
       "<table border=\"1\" class=\"dataframe\">\n",
       "  <thead>\n",
       "    <tr style=\"text-align: right;\">\n",
       "      <th></th>\n",
       "      <th>x</th>\n",
       "      <th>MR</th>\n",
       "    </tr>\n",
       "    <tr>\n",
       "      <th>Number</th>\n",
       "      <th></th>\n",
       "      <th></th>\n",
       "    </tr>\n",
       "  </thead>\n",
       "  <tbody>\n",
       "    <tr>\n",
       "      <th>1</th>\n",
       "      <td>49.6</td>\n",
       "      <td>NaN</td>\n",
       "    </tr>\n",
       "    <tr>\n",
       "      <th>2</th>\n",
       "      <td>47.6</td>\n",
       "      <td>2.0</td>\n",
       "    </tr>\n",
       "    <tr>\n",
       "      <th>3</th>\n",
       "      <td>49.9</td>\n",
       "      <td>2.3</td>\n",
       "    </tr>\n",
       "    <tr>\n",
       "      <th>4</th>\n",
       "      <td>51.3</td>\n",
       "      <td>1.4</td>\n",
       "    </tr>\n",
       "    <tr>\n",
       "      <th>5</th>\n",
       "      <td>47.8</td>\n",
       "      <td>3.5</td>\n",
       "    </tr>\n",
       "    <tr>\n",
       "      <th>6</th>\n",
       "      <td>51.2</td>\n",
       "      <td>3.4</td>\n",
       "    </tr>\n",
       "    <tr>\n",
       "      <th>7</th>\n",
       "      <td>52.6</td>\n",
       "      <td>1.4</td>\n",
       "    </tr>\n",
       "    <tr>\n",
       "      <th>8</th>\n",
       "      <td>52.4</td>\n",
       "      <td>0.2</td>\n",
       "    </tr>\n",
       "    <tr>\n",
       "      <th>9</th>\n",
       "      <td>53.6</td>\n",
       "      <td>1.2</td>\n",
       "    </tr>\n",
       "    <tr>\n",
       "      <th>10</th>\n",
       "      <td>52.1</td>\n",
       "      <td>1.5</td>\n",
       "    </tr>\n",
       "  </tbody>\n",
       "</table>\n",
       "</div>"
      ],
      "text/plain": [
       "           x   MR\n",
       "Number           \n",
       "1       49.6  NaN\n",
       "2       47.6  2.0\n",
       "3       49.9  2.3\n",
       "4       51.3  1.4\n",
       "5       47.8  3.5\n",
       "6       51.2  3.4\n",
       "7       52.6  1.4\n",
       "8       52.4  0.2\n",
       "9       53.6  1.2\n",
       "10      52.1  1.5"
      ]
     },
     "execution_count": 5,
     "metadata": {},
     "output_type": "execute_result"
    }
   ],
   "source": [
    "df"
   ]
  },
  {
   "cell_type": "code",
   "execution_count": 8,
   "id": "2a501b83",
   "metadata": {},
   "outputs": [
    {
     "data": {
      "text/plain": [
       "50.81"
      ]
     },
     "execution_count": 8,
     "metadata": {},
     "output_type": "execute_result"
    }
   ],
   "source": [
    "avg = df[\"x\"].mean()\n",
    "avg"
   ]
  },
  {
   "cell_type": "code",
   "execution_count": 17,
   "id": "bf419bbd",
   "metadata": {},
   "outputs": [
    {
     "data": {
      "text/plain": [
       "1.878"
      ]
     },
     "execution_count": 17,
     "metadata": {},
     "output_type": "execute_result"
    }
   ],
   "source": [
    "MR = round(df[\"MR\"].mean(),3)\n",
    "MR"
   ]
  },
  {
   "cell_type": "code",
   "execution_count": 39,
   "id": "9aebd52b",
   "metadata": {},
   "outputs": [],
   "source": [
    "D4 = 3.267\n",
    "D3 = 0\n",
    "d2 = 1.128\n",
    "\n",
    "\n",
    "UCL_MR = round(D4*MR,3)\n",
    "LCL_MR = round(D3*MR,3)\n",
    "\n",
    "UCL = round(avg + 3*(MR/d2),3)\n",
    "LCL = round(avg - 3*(MR/d2),3)\n",
    "\n",
    "CL = avg\n",
    "\n",
    "STD = round((UCL-CL)/3,3)\n",
    "\n",
    "UWL = round(avg + (2*STD),3)\n",
    "\n",
    "LWL = round(avg - (2*STD),3)"
   ]
  },
  {
   "cell_type": "code",
   "execution_count": 40,
   "id": "d6e1eac9",
   "metadata": {},
   "outputs": [
    {
     "data": {
      "text/plain": [
       "47.48"
      ]
     },
     "execution_count": 40,
     "metadata": {},
     "output_type": "execute_result"
    }
   ],
   "source": [
    "LWL"
   ]
  },
  {
   "cell_type": "markdown",
   "id": "d0bf21b0",
   "metadata": {},
   "source": [
    "# Range control chart"
   ]
  },
  {
   "cell_type": "code",
   "execution_count": 45,
   "id": "ea96815d",
   "metadata": {},
   "outputs": [
    {
     "data": {
      "image/png": "[encoded data removed]",
      "text/plain": [
       "<Figure size 432x288 with 1 Axes>"
      ]
     },
     "metadata": {
      "needs_background": "light"
     },
     "output_type": "display_data"
    }
   ],
   "source": [
    "plt.plot( df.index.values , (np.ones(df.index.max())*UCL_MR) ,  label = 'UCL' , color = 'r')\n",
    "\n",
    "\n",
    "plt.plot( df.index.values , (np.ones(df.index.max())*MR) ,   label = 'CL', color = 'g')\n",
    "\n",
    "plt.plot( df.index.values , (np.ones(df.index.max())*LCL_MR) ,  label = 'LCL',  color = 'b')\n",
    "\n",
    "plt.plot( df.index.values , (df['MR']) ,    label = 'Range', color = 'k')\n",
    "\n",
    "\n",
    "plt.legend(bbox_to_anchor=(1.05, 1), loc='upper left', borderaxespad=0.)\n",
    "\n",
    "plt.ylabel(' MR ', color = 'r' )\n",
    "plt.title('Range control chart when One sample size')\n",
    "plt.xlabel( 'Sample Num', color = 'r' )\n",
    "\n",
    "\n",
    "plt.show()"
   ]
  },
  {
   "cell_type": "markdown",
   "id": "96565616",
   "metadata": {},
   "source": [
    "# Averages control chart"
   ]
  },
  {
   "cell_type": "code",
   "execution_count": 50,
   "id": "73eadf0d",
   "metadata": {},
   "outputs": [
    {
     "data": {
      "image/png": "[encoded data removed]",
      "text/plain": [
       "<Figure size 432x288 with 1 Axes>"
      ]
     },
     "metadata": {
      "needs_background": "light"
     },
     "output_type": "display_data"
    }
   ],
   "source": [
    "plt.plot( df.index.values , (np.ones(df.index.max())*UCL) ,  label = 'UCL' , color = 'r')\n",
    "plt.plot( df.index.values , (np.ones(df.index.max())*UWL) ,  label = 'UWL',  color = 'b' )\n",
    "\n",
    "\n",
    "plt.plot( df.index.values , (np.ones(df.index.max())*CL) ,   label = 'CL', color = 'g')\n",
    "plt.plot( df.index.values , (df['x']) ,    label = 'Sampels average', color = 'k')\n",
    "\n",
    "\n",
    "plt.plot( df.index.values , (np.ones(df.index.max())*LWL) ,  label = 'LWL' , color = 'b')\n",
    "plt.plot( df.index.values , (np.ones(df.index.max())*LCL) ,  label = 'LCL' , color = 'r')\n",
    "\n",
    "\n",
    "plt.legend(bbox_to_anchor=(1.05, 1), loc='upper left', borderaxespad=0.)\n",
    "\n",
    "plt.ylabel(' Sampel score ', color = 'r' )\n",
    "plt.title('Average control chart when One sample size')\n",
    "plt.xlabel( 'Sample Num', color = 'r' )\n",
    "\n",
    "\n",
    "plt.show()"
   ]
  },
  {
   "cell_type": "code",
   "execution_count": null,
   "id": "dffad3b3",
   "metadata": {},
   "outputs": [],
   "source": []
  }
 ],
 "metadata": {
  "kernelspec": {
   "display_name": "Python 3 (ipykernel)",
   "language": "python",
   "name": "python3"
  },
  "language_info": {
   "codemirror_mode": {
    "name": "ipython",
    "version": 3
   },
   "file_extension": ".py",
   "mimetype": "text/x-python",
   "name": "python",
   "nbconvert_exporter": "python",
   "pygments_lexer": "ipython3",
   "version": "3.9.7"
  }
 },
 "nbformat": 4,
 "nbformat_minor": 5
}
