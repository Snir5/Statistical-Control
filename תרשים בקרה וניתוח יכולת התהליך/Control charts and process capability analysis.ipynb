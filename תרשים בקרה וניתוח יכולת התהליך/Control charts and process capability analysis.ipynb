{
 "cells": [
  {
   "cell_type": "code",
   "execution_count": 192,
   "id": "db572177",
   "metadata": {},
   "outputs": [],
   "source": [
    "import numpy as np\n",
    "import pandas as pd\n",
    "import scipy.stats as stats\n",
    "import math\n",
    "import matplotlib.pyplot as plt\n",
    "import statistics\n",
    "\n",
    "df = pd.read_csv('Control charts and process capability analysis.csv')"
   ]
  },
  {
   "cell_type": "code",
   "execution_count": 193,
   "id": "94ec2d7c",
   "metadata": {},
   "outputs": [],
   "source": [
    "df = df.transpose()"
   ]
  },
  {
   "cell_type": "code",
   "execution_count": 194,
   "id": "f6c030bc",
   "metadata": {},
   "outputs": [],
   "source": [
    "df.columns = ['Observation 1','Observation 2', 'Observation 3','Observation 4','Observation 5']"
   ]
  },
  {
   "cell_type": "code",
   "execution_count": 195,
   "id": "e5e6f197",
   "metadata": {},
   "outputs": [
    {
     "data": {
      "text/html": [
       "<div>\n",
       "<style scoped>\n",
       "    .dataframe tbody tr th:only-of-type {\n",
       "        vertical-align: middle;\n",
       "    }\n",
       "\n",
       "    .dataframe tbody tr th {\n",
       "        vertical-align: top;\n",
       "    }\n",
       "\n",
       "    .dataframe thead th {\n",
       "        text-align: right;\n",
       "    }\n",
       "</style>\n",
       "<table border=\"1\" class=\"dataframe\">\n",
       "  <thead>\n",
       "    <tr style=\"text-align: right;\">\n",
       "      <th></th>\n",
       "      <th>Observation 1</th>\n",
       "      <th>Observation 2</th>\n",
       "      <th>Observation 3</th>\n",
       "      <th>Observation 4</th>\n",
       "      <th>Observation 5</th>\n",
       "    </tr>\n",
       "  </thead>\n",
       "  <tbody>\n",
       "    <tr>\n",
       "      <th>1</th>\n",
       "      <td>47</td>\n",
       "      <td>73</td>\n",
       "      <td>36</td>\n",
       "      <td>64</td>\n",
       "      <td>59</td>\n",
       "    </tr>\n",
       "    <tr>\n",
       "      <th>2</th>\n",
       "      <td>61</td>\n",
       "      <td>68</td>\n",
       "      <td>72</td>\n",
       "      <td>45</td>\n",
       "      <td>45</td>\n",
       "    </tr>\n",
       "    <tr>\n",
       "      <th>3</th>\n",
       "      <td>55</td>\n",
       "      <td>55</td>\n",
       "      <td>75</td>\n",
       "      <td>65</td>\n",
       "      <td>56</td>\n",
       "    </tr>\n",
       "    <tr>\n",
       "      <th>4</th>\n",
       "      <td>55</td>\n",
       "      <td>71</td>\n",
       "      <td>59</td>\n",
       "      <td>67</td>\n",
       "      <td>74</td>\n",
       "    </tr>\n",
       "    <tr>\n",
       "      <th>5</th>\n",
       "      <td>68</td>\n",
       "      <td>37</td>\n",
       "      <td>74</td>\n",
       "      <td>74</td>\n",
       "      <td>59</td>\n",
       "    </tr>\n",
       "    <tr>\n",
       "      <th>6</th>\n",
       "      <td>69</td>\n",
       "      <td>44</td>\n",
       "      <td>75</td>\n",
       "      <td>46</td>\n",
       "      <td>70</td>\n",
       "    </tr>\n",
       "    <tr>\n",
       "      <th>7</th>\n",
       "      <td>68</td>\n",
       "      <td>82</td>\n",
       "      <td>78</td>\n",
       "      <td>73</td>\n",
       "      <td>88</td>\n",
       "    </tr>\n",
       "    <tr>\n",
       "      <th>8</th>\n",
       "      <td>50</td>\n",
       "      <td>37</td>\n",
       "      <td>38</td>\n",
       "      <td>59</td>\n",
       "      <td>41</td>\n",
       "    </tr>\n",
       "    <tr>\n",
       "      <th>9</th>\n",
       "      <td>75</td>\n",
       "      <td>36</td>\n",
       "      <td>45</td>\n",
       "      <td>38</td>\n",
       "      <td>40</td>\n",
       "    </tr>\n",
       "    <tr>\n",
       "      <th>10</th>\n",
       "      <td>42</td>\n",
       "      <td>64</td>\n",
       "      <td>62</td>\n",
       "      <td>50</td>\n",
       "      <td>62</td>\n",
       "    </tr>\n",
       "  </tbody>\n",
       "</table>\n",
       "</div>"
      ],
      "text/plain": [
       "    Observation 1  Observation 2  Observation 3  Observation 4  Observation 5\n",
       "1              47             73             36             64             59\n",
       "2              61             68             72             45             45\n",
       "3              55             55             75             65             56\n",
       "4              55             71             59             67             74\n",
       "5              68             37             74             74             59\n",
       "6              69             44             75             46             70\n",
       "7              68             82             78             73             88\n",
       "8              50             37             38             59             41\n",
       "9              75             36             45             38             40\n",
       "10             42             64             62             50             62"
      ]
     },
     "execution_count": 195,
     "metadata": {},
     "output_type": "execute_result"
    }
   ],
   "source": [
    "df"
   ]
  },
  {
   "cell_type": "code",
   "execution_count": 196,
   "id": "94dfab03",
   "metadata": {},
   "outputs": [],
   "source": [
    "df['average'] = df.mean(axis=1)"
   ]
  },
  {
   "cell_type": "code",
   "execution_count": 197,
   "id": "3f5d34d7",
   "metadata": {},
   "outputs": [
    {
     "data": {
      "text/plain": [
       "58.92"
      ]
     },
     "execution_count": 197,
     "metadata": {},
     "output_type": "execute_result"
    }
   ],
   "source": [
    "avg_of_avg = round(df['average'].mean(),3)\n",
    "avg_of_avg"
   ]
  },
  {
   "cell_type": "code",
   "execution_count": 198,
   "id": "0bded626",
   "metadata": {},
   "outputs": [],
   "source": [
    "df['range'] = df.max(axis=1) - df.min(axis=1)"
   ]
  },
  {
   "cell_type": "code",
   "execution_count": 199,
   "id": "5a898407",
   "metadata": {},
   "outputs": [
    {
     "data": {
      "text/plain": [
       "27.4"
      ]
     },
     "execution_count": 199,
     "metadata": {},
     "output_type": "execute_result"
    }
   ],
   "source": [
    "range_avg = df['range'].mean()\n",
    "range_avg"
   ]
  },
  {
   "cell_type": "code",
   "execution_count": 200,
   "id": "862308cb",
   "metadata": {},
   "outputs": [
    {
     "data": {
      "text/plain": [
       "11.7798796216681"
      ]
     },
     "execution_count": 200,
     "metadata": {},
     "output_type": "execute_result"
    }
   ],
   "source": [
    "d2 = 2.326\n",
    "USL = 80\n",
    "LSL =20\n",
    "std_range = range_avg/d2\n",
    "std_range"
   ]
  },
  {
   "cell_type": "code",
   "execution_count": 201,
   "id": "c0e27433",
   "metadata": {},
   "outputs": [
    {
     "data": {
      "text/plain": [
       "0.849"
      ]
     },
     "execution_count": 201,
     "metadata": {},
     "output_type": "execute_result"
    }
   ],
   "source": [
    "Cp = round((USL-LSL)/(6*std_range),3)\n",
    "Cp #Process capability measure"
   ]
  },
  {
   "cell_type": "code",
   "execution_count": 202,
   "id": "6b4de6ae",
   "metadata": {},
   "outputs": [
    {
     "name": "stdout",
     "output_type": "stream",
     "text": [
      "117.786  %\n"
     ]
    }
   ],
   "source": [
    "print(round((1/Cp*100),3),' %') #Percentage return of the process"
   ]
  },
  {
   "cell_type": "code",
   "execution_count": 203,
   "id": "42e0e2a2",
   "metadata": {},
   "outputs": [
    {
     "data": {
      "text/plain": [
       "10.0"
      ]
     },
     "execution_count": 203,
     "metadata": {},
     "output_type": "execute_result"
    }
   ],
   "source": [
    "std_expected = (USL-LSL)/(6*1)\n",
    "std_expected"
   ]
  },
  {
   "cell_type": "code",
   "execution_count": 204,
   "id": "e0147d00",
   "metadata": {},
   "outputs": [
    {
     "data": {
      "text/plain": [
       "0.596"
      ]
     },
     "execution_count": 204,
     "metadata": {},
     "output_type": "execute_result"
    }
   ],
   "source": [
    "Cpk = round(np.min([((USL-avg_of_avg)/(3*std_range)),((avg_of_avg-LSL)/(3*std_range))]),3)\n",
    "Cpk #Non-centralized process capability measure"
   ]
  },
  {
   "cell_type": "markdown",
   "id": "051602e0",
   "metadata": {},
   "source": [
    "# Percentage yield of the process"
   ]
  },
  {
   "cell_type": "markdown",
   "id": "a168afc5",
   "metadata": {},
   "source": [
    "The following are data collected from the grinding process of raw material in the chemical industry (mm):\n",
    "Specification requirements:  0.50 +- 0.01.\n",
    "LSL = 0.49, USL = 0.51; i.e\n",
    "The sample data is found that tha average of the sample is 0.5016  and the standard deviation  0.0059\n",
    "Calculate the probability of getting products that meet the specification requirements:"
   ]
  },
  {
   "cell_type": "code",
   "execution_count": 205,
   "id": "2a1bce9e",
   "metadata": {},
   "outputs": [],
   "source": [
    "avg_sample = 0.5016\n",
    "std_sample = 0.0059\n",
    "sample_usl = 0.50+0.01\n",
    "sample_lsl = 0.50-0.01\n",
    "\n",
    "\n",
    "P = round(stats.norm.cdf((sample_usl-avg_sample)/0.0059) - stats.norm.cdf((sample_lsl-avg_sample)/0.0059),3)\n",
    "P\n",
    "defective_percentage = round((1-P),3)"
   ]
  },
  {
   "cell_type": "code",
   "execution_count": 206,
   "id": "aac5b3c7",
   "metadata": {},
   "outputs": [
    {
     "name": "stdout",
     "output_type": "stream",
     "text": [
      "89.8  of the expected standard \n",
      " 10.2 expected defective percentage \n"
     ]
    }
   ],
   "source": [
    "print (P*100, ' of the expected standard','\\n',defective_percentage*100 ,'expected defective percentage ')"
   ]
  },
  {
   "cell_type": "code",
   "execution_count": null,
   "id": "ed4a4ff0",
   "metadata": {},
   "outputs": [],
   "source": []
  },
  {
   "cell_type": "code",
   "execution_count": null,
   "id": "85cc35a3",
   "metadata": {},
   "outputs": [],
   "source": []
  },
  {
   "cell_type": "code",
   "execution_count": null,
   "id": "a21fd747",
   "metadata": {},
   "outputs": [],
   "source": []
  }
 ],
 "metadata": {
  "kernelspec": {
   "display_name": "Python 3 (ipykernel)",
   "language": "python",
   "name": "python3"
  },
  "language_info": {
   "codemirror_mode": {
    "name": "ipython",
    "version": 3
   },
   "file_extension": ".py",
   "mimetype": "text/x-python",
   "name": "python",
   "nbconvert_exporter": "python",
   "pygments_lexer": "ipython3",
   "version": "3.9.7"
  }
 },
 "nbformat": 4,
 "nbformat_minor": 5
}
