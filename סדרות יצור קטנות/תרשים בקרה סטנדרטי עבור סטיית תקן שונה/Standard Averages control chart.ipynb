{
 "cells": [
  {
   "cell_type": "code",
   "execution_count": 178,
   "id": "acf1b347",
   "metadata": {},
   "outputs": [],
   "source": [
    "import numpy as np\n",
    "import pandas as pd\n",
    "import scipy.stats as stats\n",
    "import math\n",
    "import matplotlib.pyplot as plt\n",
    "import statistics\n",
    "from functools import reduce\n",
    "\n",
    "df = pd.read_csv('Data for nominal control chart.csv', index_col = 0)"
   ]
  },
  {
   "cell_type": "code",
   "execution_count": 179,
   "id": "59953e42",
   "metadata": {},
   "outputs": [
    {
     "data": {
      "text/html": [
       "<div>\n",
       "<style scoped>\n",
       "    .dataframe tbody tr th:only-of-type {\n",
       "        vertical-align: middle;\n",
       "    }\n",
       "\n",
       "    .dataframe tbody tr th {\n",
       "        vertical-align: top;\n",
       "    }\n",
       "\n",
       "    .dataframe thead th {\n",
       "        text-align: right;\n",
       "    }\n",
       "</style>\n",
       "<table border=\"1\" class=\"dataframe\">\n",
       "  <thead>\n",
       "    <tr style=\"text-align: right;\">\n",
       "      <th></th>\n",
       "      <th>Length_required</th>\n",
       "      <th>M1</th>\n",
       "      <th>M2</th>\n",
       "      <th>M3</th>\n",
       "      <th>x1</th>\n",
       "      <th>x2</th>\n",
       "      <th>x3</th>\n",
       "      <th>average</th>\n",
       "      <th>R</th>\n",
       "    </tr>\n",
       "    <tr>\n",
       "      <th>Sample number</th>\n",
       "      <th></th>\n",
       "      <th></th>\n",
       "      <th></th>\n",
       "      <th></th>\n",
       "      <th></th>\n",
       "      <th></th>\n",
       "      <th></th>\n",
       "      <th></th>\n",
       "      <th></th>\n",
       "    </tr>\n",
       "  </thead>\n",
       "  <tbody>\n",
       "    <tr>\n",
       "      <th>1</th>\n",
       "      <td>35</td>\n",
       "      <td>32</td>\n",
       "      <td>33</td>\n",
       "      <td>33</td>\n",
       "      <td>-3</td>\n",
       "      <td>-2</td>\n",
       "      <td>-2</td>\n",
       "      <td>-2.33</td>\n",
       "      <td>1</td>\n",
       "    </tr>\n",
       "    <tr>\n",
       "      <th>2</th>\n",
       "      <td>35</td>\n",
       "      <td>34</td>\n",
       "      <td>34</td>\n",
       "      <td>36</td>\n",
       "      <td>-1</td>\n",
       "      <td>-1</td>\n",
       "      <td>1</td>\n",
       "      <td>-0.33</td>\n",
       "      <td>2</td>\n",
       "    </tr>\n",
       "    <tr>\n",
       "      <th>3</th>\n",
       "      <td>35</td>\n",
       "      <td>35</td>\n",
       "      <td>36</td>\n",
       "      <td>35</td>\n",
       "      <td>0</td>\n",
       "      <td>1</td>\n",
       "      <td>0</td>\n",
       "      <td>0.33</td>\n",
       "      <td>1</td>\n",
       "    </tr>\n",
       "    <tr>\n",
       "      <th>4</th>\n",
       "      <td>45</td>\n",
       "      <td>42</td>\n",
       "      <td>44</td>\n",
       "      <td>46</td>\n",
       "      <td>-3</td>\n",
       "      <td>-1</td>\n",
       "      <td>1</td>\n",
       "      <td>-1.00</td>\n",
       "      <td>4</td>\n",
       "    </tr>\n",
       "    <tr>\n",
       "      <th>5</th>\n",
       "      <td>45</td>\n",
       "      <td>45</td>\n",
       "      <td>45</td>\n",
       "      <td>48</td>\n",
       "      <td>0</td>\n",
       "      <td>0</td>\n",
       "      <td>3</td>\n",
       "      <td>1.00</td>\n",
       "      <td>3</td>\n",
       "    </tr>\n",
       "    <tr>\n",
       "      <th>6</th>\n",
       "      <td>45</td>\n",
       "      <td>48</td>\n",
       "      <td>47</td>\n",
       "      <td>48</td>\n",
       "      <td>3</td>\n",
       "      <td>2</td>\n",
       "      <td>3</td>\n",
       "      <td>2.67</td>\n",
       "      <td>1</td>\n",
       "    </tr>\n",
       "    <tr>\n",
       "      <th>7</th>\n",
       "      <td>50</td>\n",
       "      <td>52</td>\n",
       "      <td>49</td>\n",
       "      <td>55</td>\n",
       "      <td>2</td>\n",
       "      <td>-1</td>\n",
       "      <td>5</td>\n",
       "      <td>2.00</td>\n",
       "      <td>6</td>\n",
       "    </tr>\n",
       "    <tr>\n",
       "      <th>8</th>\n",
       "      <td>50</td>\n",
       "      <td>55</td>\n",
       "      <td>48</td>\n",
       "      <td>49</td>\n",
       "      <td>5</td>\n",
       "      <td>-2</td>\n",
       "      <td>-1</td>\n",
       "      <td>0.67</td>\n",
       "      <td>7</td>\n",
       "    </tr>\n",
       "    <tr>\n",
       "      <th>9</th>\n",
       "      <td>50</td>\n",
       "      <td>51</td>\n",
       "      <td>50</td>\n",
       "      <td>52</td>\n",
       "      <td>1</td>\n",
       "      <td>0</td>\n",
       "      <td>2</td>\n",
       "      <td>1.00</td>\n",
       "      <td>2</td>\n",
       "    </tr>\n",
       "  </tbody>\n",
       "</table>\n",
       "</div>"
      ],
      "text/plain": [
       "               Length_required  M1  M2  M3  x1  x2  x3  average  R\n",
       "Sample number                                                     \n",
       "1                           35  32  33  33  -3  -2  -2    -2.33  1\n",
       "2                           35  34  34  36  -1  -1   1    -0.33  2\n",
       "3                           35  35  36  35   0   1   0     0.33  1\n",
       "4                           45  42  44  46  -3  -1   1    -1.00  4\n",
       "5                           45  45  45  48   0   0   3     1.00  3\n",
       "6                           45  48  47  48   3   2   3     2.67  1\n",
       "7                           50  52  49  55   2  -1   5     2.00  6\n",
       "8                           50  55  48  49   5  -2  -1     0.67  7\n",
       "9                           50  51  50  52   1   0   2     1.00  2"
      ]
     },
     "execution_count": 179,
     "metadata": {},
     "output_type": "execute_result"
    }
   ],
   "source": [
    "df"
   ]
  },
  {
   "cell_type": "code",
   "execution_count": 180,
   "id": "12cf733e",
   "metadata": {},
   "outputs": [
    {
     "data": {
      "text/plain": [
       "Length_required\n",
       "35    1.333333\n",
       "45    2.666667\n",
       "50    5.000000\n",
       "Name: R, dtype: float64"
      ]
     },
     "execution_count": 180,
     "metadata": {},
     "output_type": "execute_result"
    }
   ],
   "source": [
    "DF_R_BY_Length_required = df.groupby('Length_required').mean()['R']\n",
    "DF_R_BY_Length_required"
   ]
  },
  {
   "cell_type": "code",
   "execution_count": 181,
   "id": "312bb298",
   "metadata": {},
   "outputs": [
    {
     "data": {
      "text/plain": [
       "[0.75, 1.5, 0.75, 1.5, 1.125, 0.375, 1.2, 1.4, 0.4]"
      ]
     },
     "execution_count": 181,
     "metadata": {},
     "output_type": "execute_result"
    }
   ],
   "source": [
    "R =[]\n",
    "for i in range(1,df.index.max()+1):\n",
    "    if i < 4:\n",
    "        R.append(round(df.at[i,'R']/DF_R_BY_Length_required.at[35],3))\n",
    "    \n",
    "    if i > 3 and i < 7:\n",
    "        R.append(round(df.at[i,'R']/DF_R_BY_Length_required.at[45],3))\n",
    "        \n",
    "    if i > 6 and i <10:\n",
    "        R.append(round(df.at[i,'R']/DF_R_BY_Length_required.at[50],3))\n",
    "R"
   ]
  },
  {
   "cell_type": "code",
   "execution_count": 182,
   "id": "6f174b27",
   "metadata": {},
   "outputs": [
    {
     "data": {
      "text/plain": [
       "1.0"
      ]
     },
     "execution_count": 182,
     "metadata": {},
     "output_type": "execute_result"
    }
   ],
   "source": [
    "CL_R = sum(R)/len(R)\n",
    "CL_R"
   ]
  },
  {
   "cell_type": "code",
   "execution_count": 183,
   "id": "1958fd03",
   "metadata": {},
   "outputs": [],
   "source": [
    "D4 = 2.575\n",
    "D3 =0\n",
    "\n",
    "UCL_R = D4*CL_R\n",
    "LCL_R = D3*CL_R"
   ]
  },
  {
   "cell_type": "markdown",
   "id": "685a9d31",
   "metadata": {},
   "source": [
    "# Ranges control chart"
   ]
  },
  {
   "cell_type": "code",
   "execution_count": 184,
   "id": "8824a335",
   "metadata": {},
   "outputs": [
    {
     "data": {
      "image/png": "[encoded data removed]",
      "text/plain": [
       "<Figure size 432x288 with 1 Axes>"
      ]
     },
     "metadata": {
      "needs_background": "light"
     },
     "output_type": "display_data"
    }
   ],
   "source": [
    "plt.plot( df.index.values , (np.ones(df.index.max())*UCL_R) ,  label = 'UCL' , color = 'r')\n",
    "\n",
    "\n",
    "plt.plot( df.index.values , (np.ones(df.index.max())*CL_R) ,   label = 'CL', color = 'g')\n",
    "\n",
    "plt.plot( df.index.values , (np.ones(df.index.max())*LCL_R) ,  label = 'LCL',  color = 'b')\n",
    "\n",
    "plt.plot( df.index.values , (R) ,    label = 'Range', color = 'k')\n",
    "\n",
    "\n",
    "plt.legend(bbox_to_anchor=(1.05, 1), loc='upper left', borderaxespad=0.)\n",
    "\n",
    "plt.ylabel(' Sampels Range ', color = 'r' )\n",
    "plt.title('Ranges nominal control chart')\n",
    "plt.xlabel( 'Sample Num', color = 'r' )\n",
    "\n",
    "\n",
    "plt.show()"
   ]
  },
  {
   "cell_type": "code",
   "execution_count": 185,
   "id": "6006cbe3",
   "metadata": {},
   "outputs": [
    {
     "data": {
      "text/plain": [
       "1.3333333333333333"
      ]
     },
     "execution_count": 185,
     "metadata": {},
     "output_type": "execute_result"
    }
   ],
   "source": [
    "DF_R_BY_Length_required = df.groupby('Length_required').mean()['R']\n",
    "\n",
    "DF_R_BY_Length_required[35]\n"
   ]
  },
  {
   "cell_type": "code",
   "execution_count": 186,
   "id": "0a45cf41",
   "metadata": {},
   "outputs": [
    {
     "data": {
      "text/plain": [
       "[1.333, 1.333, 1.333, 2.667, 2.667, 2.667, 5.0, 5.0, 5.0]"
      ]
     },
     "execution_count": 186,
     "metadata": {},
     "output_type": "execute_result"
    }
   ],
   "source": [
    "ranges_avg =[]\n",
    "\n",
    "for i in range(1,df.index.max()+1):\n",
    "    if i < 4:\n",
    "        ranges_avg.append(round(DF_R_BY_Length_required.at[35],3))\n",
    "    \n",
    "    if i > 3 and i < 7:\n",
    "        ranges_avg.append(round(DF_R_BY_Length_required.at[45],3))\n",
    "        \n",
    "    if i > 6 and i <10:\n",
    "        ranges_avg.append(round(DF_R_BY_Length_required.at[50],3))\n",
    "ranges_avg"
   ]
  },
  {
   "cell_type": "code",
   "execution_count": 187,
   "id": "8b3b0edf",
   "metadata": {},
   "outputs": [],
   "source": [
    "DF_AVG_BY_Length_required['ranges_avg'] = ranges_avg"
   ]
  },
  {
   "cell_type": "code",
   "execution_count": 188,
   "id": "966224d0",
   "metadata": {},
   "outputs": [
    {
     "data": {
      "text/html": [
       "<div>\n",
       "<style scoped>\n",
       "    .dataframe tbody tr th:only-of-type {\n",
       "        vertical-align: middle;\n",
       "    }\n",
       "\n",
       "    .dataframe tbody tr th {\n",
       "        vertical-align: top;\n",
       "    }\n",
       "\n",
       "    .dataframe thead th {\n",
       "        text-align: right;\n",
       "    }\n",
       "</style>\n",
       "<table border=\"1\" class=\"dataframe\">\n",
       "  <thead>\n",
       "    <tr style=\"text-align: right;\">\n",
       "      <th></th>\n",
       "      <th>Length_required</th>\n",
       "      <th>M1</th>\n",
       "      <th>M2</th>\n",
       "      <th>M3</th>\n",
       "      <th>x1</th>\n",
       "      <th>x2</th>\n",
       "      <th>x3</th>\n",
       "      <th>average</th>\n",
       "      <th>R</th>\n",
       "      <th>standard_avg</th>\n",
       "      <th>ranges_avg</th>\n",
       "    </tr>\n",
       "    <tr>\n",
       "      <th>Sample number</th>\n",
       "      <th></th>\n",
       "      <th></th>\n",
       "      <th></th>\n",
       "      <th></th>\n",
       "      <th></th>\n",
       "      <th></th>\n",
       "      <th></th>\n",
       "      <th></th>\n",
       "      <th></th>\n",
       "      <th></th>\n",
       "      <th></th>\n",
       "    </tr>\n",
       "  </thead>\n",
       "  <tbody>\n",
       "    <tr>\n",
       "      <th>1</th>\n",
       "      <td>35</td>\n",
       "      <td>32</td>\n",
       "      <td>33</td>\n",
       "      <td>33</td>\n",
       "      <td>-3</td>\n",
       "      <td>-2</td>\n",
       "      <td>-2</td>\n",
       "      <td>-2.33</td>\n",
       "      <td>1</td>\n",
       "      <td>-1.750</td>\n",
       "      <td>1.333</td>\n",
       "    </tr>\n",
       "    <tr>\n",
       "      <th>2</th>\n",
       "      <td>35</td>\n",
       "      <td>34</td>\n",
       "      <td>34</td>\n",
       "      <td>36</td>\n",
       "      <td>-1</td>\n",
       "      <td>-1</td>\n",
       "      <td>1</td>\n",
       "      <td>-0.33</td>\n",
       "      <td>2</td>\n",
       "      <td>-0.250</td>\n",
       "      <td>1.333</td>\n",
       "    </tr>\n",
       "    <tr>\n",
       "      <th>3</th>\n",
       "      <td>35</td>\n",
       "      <td>35</td>\n",
       "      <td>36</td>\n",
       "      <td>35</td>\n",
       "      <td>0</td>\n",
       "      <td>1</td>\n",
       "      <td>0</td>\n",
       "      <td>0.33</td>\n",
       "      <td>1</td>\n",
       "      <td>0.250</td>\n",
       "      <td>1.333</td>\n",
       "    </tr>\n",
       "    <tr>\n",
       "      <th>4</th>\n",
       "      <td>45</td>\n",
       "      <td>42</td>\n",
       "      <td>44</td>\n",
       "      <td>46</td>\n",
       "      <td>-3</td>\n",
       "      <td>-1</td>\n",
       "      <td>1</td>\n",
       "      <td>-1.00</td>\n",
       "      <td>4</td>\n",
       "      <td>-0.375</td>\n",
       "      <td>2.667</td>\n",
       "    </tr>\n",
       "    <tr>\n",
       "      <th>5</th>\n",
       "      <td>45</td>\n",
       "      <td>45</td>\n",
       "      <td>45</td>\n",
       "      <td>48</td>\n",
       "      <td>0</td>\n",
       "      <td>0</td>\n",
       "      <td>3</td>\n",
       "      <td>1.00</td>\n",
       "      <td>3</td>\n",
       "      <td>0.375</td>\n",
       "      <td>2.667</td>\n",
       "    </tr>\n",
       "    <tr>\n",
       "      <th>6</th>\n",
       "      <td>45</td>\n",
       "      <td>48</td>\n",
       "      <td>47</td>\n",
       "      <td>48</td>\n",
       "      <td>3</td>\n",
       "      <td>2</td>\n",
       "      <td>3</td>\n",
       "      <td>2.67</td>\n",
       "      <td>1</td>\n",
       "      <td>1.000</td>\n",
       "      <td>2.667</td>\n",
       "    </tr>\n",
       "    <tr>\n",
       "      <th>7</th>\n",
       "      <td>50</td>\n",
       "      <td>52</td>\n",
       "      <td>49</td>\n",
       "      <td>55</td>\n",
       "      <td>2</td>\n",
       "      <td>-1</td>\n",
       "      <td>5</td>\n",
       "      <td>2.00</td>\n",
       "      <td>6</td>\n",
       "      <td>0.400</td>\n",
       "      <td>5.000</td>\n",
       "    </tr>\n",
       "    <tr>\n",
       "      <th>8</th>\n",
       "      <td>50</td>\n",
       "      <td>55</td>\n",
       "      <td>48</td>\n",
       "      <td>49</td>\n",
       "      <td>5</td>\n",
       "      <td>-2</td>\n",
       "      <td>-1</td>\n",
       "      <td>0.67</td>\n",
       "      <td>7</td>\n",
       "      <td>0.133</td>\n",
       "      <td>5.000</td>\n",
       "    </tr>\n",
       "    <tr>\n",
       "      <th>9</th>\n",
       "      <td>50</td>\n",
       "      <td>51</td>\n",
       "      <td>50</td>\n",
       "      <td>52</td>\n",
       "      <td>1</td>\n",
       "      <td>0</td>\n",
       "      <td>2</td>\n",
       "      <td>1.00</td>\n",
       "      <td>2</td>\n",
       "      <td>0.200</td>\n",
       "      <td>5.000</td>\n",
       "    </tr>\n",
       "  </tbody>\n",
       "</table>\n",
       "</div>"
      ],
      "text/plain": [
       "               Length_required  M1  M2  M3  x1  x2  x3  average  R  \\\n",
       "Sample number                                                        \n",
       "1                           35  32  33  33  -3  -2  -2    -2.33  1   \n",
       "2                           35  34  34  36  -1  -1   1    -0.33  2   \n",
       "3                           35  35  36  35   0   1   0     0.33  1   \n",
       "4                           45  42  44  46  -3  -1   1    -1.00  4   \n",
       "5                           45  45  45  48   0   0   3     1.00  3   \n",
       "6                           45  48  47  48   3   2   3     2.67  1   \n",
       "7                           50  52  49  55   2  -1   5     2.00  6   \n",
       "8                           50  55  48  49   5  -2  -1     0.67  7   \n",
       "9                           50  51  50  52   1   0   2     1.00  2   \n",
       "\n",
       "               standard_avg  ranges_avg  \n",
       "Sample number                            \n",
       "1                    -1.750       1.333  \n",
       "2                    -0.250       1.333  \n",
       "3                     0.250       1.333  \n",
       "4                    -0.375       2.667  \n",
       "5                     0.375       2.667  \n",
       "6                     1.000       2.667  \n",
       "7                     0.400       5.000  \n",
       "8                     0.133       5.000  \n",
       "9                     0.200       5.000  "
      ]
     },
     "execution_count": 188,
     "metadata": {},
     "output_type": "execute_result"
    }
   ],
   "source": [
    "DF_AVG_BY_Length_required['standard_avg'] = round(((((DF_AVG_BY_Length_required['M1']+\n",
    "                                              DF_AVG_BY_Length_required['M2']+\n",
    "                                              DF_AVG_BY_Length_required['M3'])/3)-\n",
    "                                              DF_AVG_BY_Length_required['Length_required'])/\n",
    "                                              DF_AVG_BY_Length_required['ranges_avg']),3)\n",
    "                                              \n",
    "DF_AVG_BY_Length_required"
   ]
  },
  {
   "cell_type": "code",
   "execution_count": 191,
   "id": "bf3a9541",
   "metadata": {},
   "outputs": [],
   "source": [
    "A2 = 1.023\n",
    "CL_AVG = 0\n",
    "UCL_AVG = A2\n",
    "LCL_AVG = -A2\n",
    "STD =A2/3\n",
    "UL_AVG =  STD\n",
    "LL_AVG = -STD\n",
    "UWL_AVG = STD*2\n",
    "LWL_AVG = -STD*2\n"
   ]
  },
  {
   "cell_type": "markdown",
   "id": "f7ee085c",
   "metadata": {},
   "source": [
    "# Averages control chart"
   ]
  },
  {
   "cell_type": "code",
   "execution_count": 192,
   "id": "24b0a14d",
   "metadata": {},
   "outputs": [
    {
     "data": {
      "image/png": "[encoded data removed]",
      "text/plain": [
       "<Figure size 432x288 with 1 Axes>"
      ]
     },
     "metadata": {
      "needs_background": "light"
     },
     "output_type": "display_data"
    }
   ],
   "source": [
    "plt.plot( df.index.values , (np.ones(df.index.max())*UCL_AVG) ,  label = 'UCL' , color = 'r')\n",
    "plt.plot( df.index.values , (np.ones(df.index.max())*UWL_AVG) ,  label = 'UWL' , color = 'b')\n",
    "plt.plot( df.index.values , (np.ones(df.index.max())*UL_AVG) ,  label = 'UL' , color = 'c')\n",
    "\n",
    "plt.plot( df.index.values , (np.ones(df.index.max())*CL_AVG) ,   label = 'CL', color = 'g')\n",
    "plt.plot( df.index.values , (DF_AVG_BY_Length_required['standard_avg']) ,    label = 'standard_avg', color = 'k')\n",
    "\n",
    "plt.plot( df.index.values , (np.ones(df.index.max())*LL_AVG) ,  label = 'LL' , color = 'c')\n",
    "plt.plot( df.index.values , (np.ones(df.index.max())*LWL_AVG) ,  label = 'LWL' , color = 'b')\n",
    "plt.plot( df.index.values , (np.ones(df.index.max())*LCL_AVG) ,  label = 'LCL' , color = 'r')\n",
    "\n",
    "\n",
    "plt.legend(bbox_to_anchor=(1.05, 1), loc='upper left', borderaxespad=0.)\n",
    "\n",
    "plt.ylabel(' standard avg ', color = 'r' )\n",
    "plt.title(' Standard Averages control chart')\n",
    "plt.xlabel( 'Sample Num', color = 'r' )\n",
    "\n",
    "\n",
    "plt.show()\n"
   ]
  }
 ],
 "metadata": {
  "kernelspec": {
   "display_name": "Python 3 (ipykernel)",
   "language": "python",
   "name": "python3"
  },
  "language_info": {
   "codemirror_mode": {
    "name": "ipython",
    "version": 3
   },
   "file_extension": ".py",
   "mimetype": "text/x-python",
   "name": "python",
   "nbconvert_exporter": "python",
   "pygments_lexer": "ipython3",
   "version": "3.9.7"
  }
 },
 "nbformat": 4,
 "nbformat_minor": 5
}
