{
 "cells": [
  {
   "cell_type": "markdown",
   "id": "4e83ac0a",
   "metadata": {},
   "source": [
    "# Control charts and probabilities when standard deviation and expectation are known"
   ]
  },
  {
   "cell_type": "markdown",
   "id": "78942969",
   "metadata": {},
   "source": [
    "Supplier of rice spices hyssop spice in boxes, in an automatic packing process\n",
    "The engineers proposed to control the process with the help of control charts for averages and standard deviations, for measuring the weight of the boxes.\n",
    "Every half hour a sample of 5 boxes was taken\n",
    "It is known that the weight of hyssop is normally distributed with an average of 100 grams and a standard deviation of 5 grams\n",
    "The following are the measurement results of 15 samples on a given working day"
   ]
  },
  {
   "cell_type": "code",
   "execution_count": 273,
   "id": "b3de441f",
   "metadata": {},
   "outputs": [],
   "source": [
    "import numpy as np\n",
    "import pandas as pd\n",
    "import scipy.stats as stats\n",
    "import math\n",
    "import matplotlib.pyplot as plt\n",
    "import statistics\n",
    "\n",
    "df = pd.read_csv('Data for control chart for variables Parameters are known.csv', index_col=0)"
   ]
  },
  {
   "cell_type": "code",
   "execution_count": 274,
   "id": "97e60c8a",
   "metadata": {},
   "outputs": [
    {
     "data": {
      "text/plain": [
       "Average               float64\n",
       "Standard Deviation    float64\n",
       "dtype: object"
      ]
     },
     "execution_count": 274,
     "metadata": {},
     "output_type": "execute_result"
    }
   ],
   "source": [
    "df.dtypes\n"
   ]
  },
  {
   "cell_type": "code",
   "execution_count": 275,
   "id": "d46c9e94",
   "metadata": {},
   "outputs": [
    {
     "data": {
      "text/html": [
       "<div>\n",
       "<style scoped>\n",
       "    .dataframe tbody tr th:only-of-type {\n",
       "        vertical-align: middle;\n",
       "    }\n",
       "\n",
       "    .dataframe tbody tr th {\n",
       "        vertical-align: top;\n",
       "    }\n",
       "\n",
       "    .dataframe thead th {\n",
       "        text-align: right;\n",
       "    }\n",
       "</style>\n",
       "<table border=\"1\" class=\"dataframe\">\n",
       "  <thead>\n",
       "    <tr style=\"text-align: right;\">\n",
       "      <th></th>\n",
       "      <th>Average</th>\n",
       "      <th>Standard Deviation</th>\n",
       "    </tr>\n",
       "    <tr>\n",
       "      <th>Sampel</th>\n",
       "      <th></th>\n",
       "      <th></th>\n",
       "    </tr>\n",
       "  </thead>\n",
       "  <tbody>\n",
       "    <tr>\n",
       "      <th>1</th>\n",
       "      <td>100.3</td>\n",
       "      <td>1.0</td>\n",
       "    </tr>\n",
       "    <tr>\n",
       "      <th>2</th>\n",
       "      <td>102.0</td>\n",
       "      <td>2.0</td>\n",
       "    </tr>\n",
       "    <tr>\n",
       "      <th>3</th>\n",
       "      <td>101.0</td>\n",
       "      <td>1.5</td>\n",
       "    </tr>\n",
       "    <tr>\n",
       "      <th>4</th>\n",
       "      <td>102.5</td>\n",
       "      <td>1.3</td>\n",
       "    </tr>\n",
       "    <tr>\n",
       "      <th>5</th>\n",
       "      <td>105.0</td>\n",
       "      <td>4.4</td>\n",
       "    </tr>\n",
       "    <tr>\n",
       "      <th>6</th>\n",
       "      <td>103.7</td>\n",
       "      <td>1.1</td>\n",
       "    </tr>\n",
       "    <tr>\n",
       "      <th>7</th>\n",
       "      <td>108.0</td>\n",
       "      <td>6.1</td>\n",
       "    </tr>\n",
       "    <tr>\n",
       "      <th>8</th>\n",
       "      <td>101.0</td>\n",
       "      <td>2.0</td>\n",
       "    </tr>\n",
       "    <tr>\n",
       "      <th>9</th>\n",
       "      <td>98.0</td>\n",
       "      <td>7.2</td>\n",
       "    </tr>\n",
       "    <tr>\n",
       "      <th>10</th>\n",
       "      <td>96.4</td>\n",
       "      <td>1.7</td>\n",
       "    </tr>\n",
       "    <tr>\n",
       "      <th>11</th>\n",
       "      <td>101.0</td>\n",
       "      <td>1.1</td>\n",
       "    </tr>\n",
       "    <tr>\n",
       "      <th>12</th>\n",
       "      <td>92.5</td>\n",
       "      <td>1.3</td>\n",
       "    </tr>\n",
       "    <tr>\n",
       "      <th>13</th>\n",
       "      <td>100.4</td>\n",
       "      <td>1.1</td>\n",
       "    </tr>\n",
       "    <tr>\n",
       "      <th>14</th>\n",
       "      <td>97.0</td>\n",
       "      <td>1.6</td>\n",
       "    </tr>\n",
       "    <tr>\n",
       "      <th>15</th>\n",
       "      <td>101.0</td>\n",
       "      <td>1.2</td>\n",
       "    </tr>\n",
       "  </tbody>\n",
       "</table>\n",
       "</div>"
      ],
      "text/plain": [
       "        Average  Standard Deviation\n",
       "Sampel                             \n",
       "1         100.3                 1.0\n",
       "2         102.0                 2.0\n",
       "3         101.0                 1.5\n",
       "4         102.5                 1.3\n",
       "5         105.0                 4.4\n",
       "6         103.7                 1.1\n",
       "7         108.0                 6.1\n",
       "8         101.0                 2.0\n",
       "9          98.0                 7.2\n",
       "10         96.4                 1.7\n",
       "11        101.0                 1.1\n",
       "12         92.5                 1.3\n",
       "13        100.4                 1.1\n",
       "14         97.0                 1.6\n",
       "15        101.0                 1.2"
      ]
     },
     "execution_count": 275,
     "metadata": {},
     "output_type": "execute_result"
    }
   ],
   "source": [
    "df"
   ]
  },
  {
   "cell_type": "code",
   "execution_count": 276,
   "id": "5109ee59",
   "metadata": {},
   "outputs": [],
   "source": [
    "N = 5               # The sample size\n",
    "E = 100             # Eepected value\n",
    "STD_0 = 5           # Standard Deviation\n",
    "\n",
    "\n",
    "A = 3/math.sqrt(N)\n",
    "\n",
    "\n",
    "UCL = E + (A*STD_0) # Upper control limit\n",
    "LCL = E - (A*STD_0) # Lower control limit\n",
    "\n",
    "\n",
    "STD_X = STD_0/math.sqrt(N) # Standard Deviation of sampeling"
   ]
  },
  {
   "cell_type": "code",
   "execution_count": 277,
   "id": "4dcb287e",
   "metadata": {},
   "outputs": [],
   "source": [
    "UWL = UCL - STD_X\n",
    "UL =  UCL - (2*STD_X)\n",
    "\n",
    "LWL = LCL + STD_X\n",
    "LL =  LCL + (2*STD_X)"
   ]
  },
  {
   "cell_type": "code",
   "execution_count": 278,
   "id": "e42ef9f9",
   "metadata": {},
   "outputs": [
    {
     "data": {
      "image/png": "[encoded data removed]",
      "text/plain": [
       "<Figure size 1152x648 with 1 Axes>"
      ]
     },
     "metadata": {
      "needs_background": "light"
     },
     "output_type": "display_data"
    }
   ],
   "source": [
    "plt.plot( df.index.values , (np.ones(15)*UCL) ,  label = 'UCL' , color = 'r')\n",
    "plt.plot( df.index.values , (np.ones(15)*UWL) ,  label = 'UWL',  color = 'b' )\n",
    "plt.plot( df.index.values , (np.ones(15)*UL) ,   label = 'UL' , color = 'c')\n",
    "\n",
    "plt.plot( df.index.values , (np.ones(15)*E) ,   label = 'CL', color = 'g')\n",
    "plt.plot( df.index.values , (df['Average']) ,    label = 'Sampels average', color = 'k')\n",
    "\n",
    "plt.plot( df.index.values , (np.ones(15)*LL) ,   label = 'LL'  , color = 'c')\n",
    "plt.plot( df.index.values , (np.ones(15)*LWL) ,  label = 'LWL' , color = 'b')\n",
    "plt.plot( df.index.values , (np.ones(15)*LCL) ,  label = 'LCL' , color = 'r')\n",
    "\n",
    "\n",
    "plt.legend(bbox_to_anchor=(1.05, 1), loc='upper left', borderaxespad=0.)\n",
    "\n",
    "plt.ylabel(' Sampels average ', color = 'r' )\n",
    "plt.title('Control chart when variables and Parameters are known')\n",
    "plt.xlabel( 'Sample num', color = 'r' )\n",
    "\n",
    "\n",
    "plt.show()"
   ]
  },
  {
   "cell_type": "markdown",
   "id": "266ad86f",
   "metadata": {},
   "source": [
    " \n",
    " # Probability of finding changes in data\n",
    " "
   ]
  },
  {
   "cell_type": "markdown",
   "id": "f0e097fa",
   "metadata": {},
   "source": [
    "If suddenly there is a change and the average weight drops to 95 g, what is the probability\n",
    "Find out with the help of the control chart for averages at most in the sample\n",
    "The second to be taken after the change?\n",
    "What is the average runtime to find out that the process has gone out of control?"
   ]
  },
  {
   "cell_type": "code",
   "execution_count": 279,
   "id": "21e1d719",
   "metadata": {},
   "outputs": [],
   "source": [
    "new_avg = 95\n",
    "z = ((LCL-new_avg)/STD_X)\n",
    "p = stats.norm.cdf(z)\n",
    "q = 1-p"
   ]
  },
  {
   "cell_type": "code",
   "execution_count": 280,
   "id": "712252bc",
   "metadata": {},
   "outputs": [],
   "source": [
    "# Probability function of num of sampels before detection"
   ]
  },
  {
   "cell_type": "code",
   "execution_count": 281,
   "id": "d2ef886b",
   "metadata": {},
   "outputs": [],
   "source": [
    "def detection_in_the_x_sample(x):\n",
    "    if x == 1:\n",
    "        return p\n",
    "    else:\n",
    "        q = 1-p\n",
    "        return (q * detection_in_the_x_sample(x-1))"
   ]
  },
  {
   "cell_type": "code",
   "execution_count": 282,
   "id": "5da47363",
   "metadata": {},
   "outputs": [
    {
     "data": {
      "text/plain": [
       "0.22245387659359545"
      ]
     },
     "execution_count": 282,
     "metadata": {},
     "output_type": "execute_result"
    }
   ],
   "source": [
    "detection_in_the_x_sample(1)"
   ]
  },
  {
   "cell_type": "code",
   "execution_count": 283,
   "id": "9fd8c643",
   "metadata": {},
   "outputs": [
    {
     "data": {
      "text/plain": [
       "Text(92.89500000000021, 0.01, '0.111')"
      ]
     },
     "execution_count": 283,
     "metadata": {},
     "output_type": "execute_result"
    },
    {
     "data": {
      "image/png": "[encoded data removed]",
      "text/plain": [
       "<Figure size 1152x648 with 1 Axes>"
      ]
     },
     "metadata": {
      "needs_background": "light"
     },
     "output_type": "display_data"
    }
   ],
   "source": [
    "# Plot normal distribution areas*\n",
    "\n",
    "plt.rcParams[\"figure.figsize\"] = (16,9)\n",
    "\n",
    "x_axis1 = np.arange(df['Average'].min(),LCL,0.01)\n",
    "x_axis2 = np.arange(LCL,UCL,0.01)\n",
    "x_axis3 = np.arange(UCL,df['Average'].max(),0.01)\n",
    "\n",
    "                                  \n",
    "plt.fill_between(x = x_axis1, \n",
    "                 y1= stats.norm.pdf(x_axis1,E,STD_X),\n",
    "                 facecolor='red',\n",
    "                 alpha=0.35)\n",
    "\n",
    "plt.fill_between(x = x_axis3, \n",
    "                 y1= stats.norm.pdf(x_axis3,E,STD_X),\n",
    "                 facecolor='red',\n",
    "                 alpha=0.35)\n",
    "\n",
    "plt.fill_between(x = x_axis2 , \n",
    "                 y1= stats.norm.pdf(x_axis2,E,STD_X),\n",
    "                 facecolor='blue',\n",
    "                 alpha=0.35)\n",
    "\n",
    "plt.text(x = np.mean(x_axis3), y=0.01, s= round(((stats.norm.cdf(z)) / 2),3))\n",
    "plt.text(x = np.mean(x_axis2), y=0.06, s= round((1 - (stats.norm.cdf(z))),3))\n",
    "plt.text(x = np.mean(x_axis1), y=0.01, s= round(((stats.norm.cdf(z)) / 2),3))"
   ]
  },
  {
   "cell_type": "code",
   "execution_count": 284,
   "id": "bde2d7bd",
   "metadata": {},
   "outputs": [
    {
     "data": {
      "text/plain": [
       "0.17296814938207683"
      ]
     },
     "execution_count": 284,
     "metadata": {},
     "output_type": "execute_result"
    }
   ],
   "source": [
    "detection_in_the_x_sample(2)"
   ]
  },
  {
   "cell_type": "code",
   "execution_count": 285,
   "id": "23f60783",
   "metadata": {},
   "outputs": [],
   "source": [
    "# Probability of detection at most in the second sample"
   ]
  },
  {
   "cell_type": "code",
   "execution_count": 286,
   "id": "07136ffe",
   "metadata": {},
   "outputs": [],
   "source": [
    "def detection_at_most_in_the_x_sample(x):\n",
    "    if x == 1:\n",
    "        return detection_in_the_x_sample(x)\n",
    "    else:\n",
    "        return (detection_in_the_x_sample(x) + detection_at_most_in_the_x_sample(x-1))\n"
   ]
  },
  {
   "cell_type": "code",
   "execution_count": 287,
   "id": "ba78edd8",
   "metadata": {},
   "outputs": [
    {
     "data": {
      "text/plain": [
       "0.3954220259756723"
      ]
     },
     "execution_count": 287,
     "metadata": {},
     "output_type": "execute_result"
    }
   ],
   "source": [
    "detection_at_most_in_the_x_sample(2)"
   ]
  },
  {
   "cell_type": "markdown",
   "id": "bfafecf4",
   "metadata": {},
   "source": [
    "The average of the runs will be:\n",
    "On average in the first or second sample the change that occurred in the process average will be detected for the first time"
   ]
  },
  {
   "cell_type": "code",
   "execution_count": 288,
   "id": "12967e17",
   "metadata": {},
   "outputs": [],
   "source": [
    "ARL1 = 1/(1-q)"
   ]
  },
  {
   "cell_type": "code",
   "execution_count": 289,
   "id": "5202c520",
   "metadata": {},
   "outputs": [
    {
     "data": {
      "text/plain": [
       "4.495313883996348"
      ]
     },
     "execution_count": 289,
     "metadata": {},
     "output_type": "execute_result"
    }
   ],
   "source": [
    "ARL1"
   ]
  },
  {
   "cell_type": "markdown",
   "id": "65f7680e",
   "metadata": {},
   "source": [
    "If following a change the average weight increases, how much is it increased if it is known that\n",
    "The probability of discovering this at the latest after the second sample is taken\n",
    "Is 0.09\n",
    "(? Assume detection capability only on the upper control limit side)."
   ]
  },
  {
   "cell_type": "code",
   "execution_count": 290,
   "id": "40e51bd8",
   "metadata": {},
   "outputs": [],
   "source": [
    "def how_nuch_increased_when_proba_of_discovering_id_known(prob_find_out_2_max_sampels):\n",
    "    a =1\n",
    "    b=-2\n",
    "    c = prob_find_out_2_max_sampels\n",
    "    \n",
    "    discriminant = b**2 - (4 * a * c)\n",
    "\n",
    "    if discriminant >= 0:\n",
    "        x_1=(-b+math.sqrt(discriminant))/2*a\n",
    "        x_2=(-b-math.sqrt(discriminant))/2*a\n",
    "        \n",
    "        \n",
    "    if x_1>0 and x_1<1:\n",
    "        new_avg1 = ((UCL-(STD_X*stats.norm.cdf(1-x_1))))\n",
    "        return (round(new_avg1,4))\n",
    "    else:\n",
    "        new_avg1 = ((UCL-(STD_X*stats.norm.cdf(1-x_2))))\n",
    "        return(round(new_avg1,4))"
   ]
  },
  {
   "cell_type": "code",
   "execution_count": 291,
   "id": "0ccf7141",
   "metadata": {},
   "outputs": [
    {
     "data": {
      "text/plain": [
       "104.8524"
      ]
     },
     "execution_count": 291,
     "metadata": {},
     "output_type": "execute_result"
    }
   ],
   "source": [
    "how_nuch_increased_when_proba_of_discovering_id_known(0.09)"
   ]
  },
  {
   "cell_type": "markdown",
   "id": "decff5b4",
   "metadata": {},
   "source": [
    "3) The standard deviation increased to 7 g and the average remained constant\n",
    "Visible probability outside the upper control limit"
   ]
  },
  {
   "cell_type": "code",
   "execution_count": 292,
   "id": "abd71c30",
   "metadata": {},
   "outputs": [
    {
     "data": {
      "text/plain": [
       "0.032"
      ]
     },
     "execution_count": 292,
     "metadata": {},
     "output_type": "execute_result"
    }
   ],
   "source": [
    "new_std = 7\n",
    "p3 = 2*(1- stats.norm.cdf((UCL-E)/(new_std/math.sqrt(5))))\n",
    "\n",
    "round(p3,3)"
   ]
  },
  {
   "cell_type": "markdown",
   "id": "2a0f5e76",
   "metadata": {},
   "source": [
    "4) If there is an increase in the average weight of a box to 103.2g, what\n",
    "The probability of discovering it in the second sample? What will be the run time\n",
    "The average to detect the deviation?"
   ]
  },
  {
   "cell_type": "code",
   "execution_count": 293,
   "id": "84573360",
   "metadata": {},
   "outputs": [
    {
     "data": {
      "text/plain": [
       "18.205"
      ]
     },
     "execution_count": 293,
     "metadata": {},
     "output_type": "execute_result"
    }
   ],
   "source": [
    "new_avg4 = 103.2\n",
    "\n",
    "p4 = 1- stats.norm.cdf((UCL-new_avg4)/(STD_X))\n",
    "\n",
    "prob_to_find_in_the_second_sample = p4*(1-p4)\n",
    "\n",
    "ARL1_5 = 1/prob_to_find_in_the_second_sample\n",
    "\n",
    "round(ARL1_5,3)  "
   ]
  },
  {
   "cell_type": "code",
   "execution_count": 294,
   "id": "702259b6",
   "metadata": {},
   "outputs": [],
   "source": [
    "# On average in sample 18 Or the 19th the change of the average will be discovered for the first time"
   ]
  },
  {
   "cell_type": "markdown",
   "id": "dc292882",
   "metadata": {},
   "source": [
    "5) After the process is back in a state of control, the plant decides\n",
    "Increase the chance of detecting a state of deviation and therefore \"tightens\" the boundaries\n",
    "Control by 4 g on each side. What is the chance of a \"false alarm\" in case and how much\n",
    "Will average runs happen until a \"false alarm\"?"
   ]
  },
  {
   "cell_type": "code",
   "execution_count": 295,
   "id": "fbbd4de6",
   "metadata": {},
   "outputs": [
    {
     "data": {
      "text/plain": [
       "0.2258396006338852"
      ]
     },
     "execution_count": 295,
     "metadata": {},
     "output_type": "execute_result"
    }
   ],
   "source": [
    "new_ucl = UCL - 4\n",
    "new_lcl = LCL + 4\n",
    "alfa = 1 - ((stats.norm.cdf((new_ucl-E)/STD_X)) - (stats.norm.cdf((new_lcl-E)/STD_X)))\n",
    "\n",
    "alfa #the chance of a \"false alarm\""
   ]
  },
  {
   "cell_type": "code",
   "execution_count": 296,
   "id": "c008154f",
   "metadata": {},
   "outputs": [
    {
     "data": {
      "text/plain": [
       "4.427921397280221"
      ]
     },
     "execution_count": 296,
     "metadata": {},
     "output_type": "execute_result"
    }
   ],
   "source": [
    "ARL0_5 = 1/alfa\n",
    "\n",
    "ARL0_5 # average runs happen until a \"false alarm\""
   ]
  },
  {
   "cell_type": "markdown",
   "id": "416fcc16",
   "metadata": {},
   "source": [
    "6) If there is an average downward deviation (when measured in standard deviations), \n",
    " K = 1.5, what is the probability of discovering this only in the third sample? And what time\n",
    "The average run to discovery?"
   ]
  },
  {
   "cell_type": "code",
   "execution_count": 297,
   "id": "b16be877",
   "metadata": {},
   "outputs": [],
   "source": [
    "def quastion5(k):\n",
    "    \n",
    "    beta5 = (stats.norm.cdf(3 - (k*math.sqrt(N)))) - (stats.norm.cdf(-3 - (k*math.sqrt(N))))\n",
    "    return beta5"
   ]
  },
  {
   "cell_type": "code",
   "execution_count": 298,
   "id": "842befe3",
   "metadata": {},
   "outputs": [
    {
     "data": {
      "text/plain": [
       "0.362"
      ]
     },
     "execution_count": 298,
     "metadata": {},
     "output_type": "execute_result"
    }
   ],
   "source": [
    "round(quastion5(1.5),3) #The probability of non-discovery"
   ]
  },
  {
   "cell_type": "code",
   "execution_count": 299,
   "id": "2fa05fb6",
   "metadata": {},
   "outputs": [],
   "source": [
    "def prob_to_find_out_at_the_x_sample_by_giving_k(x,k):\n",
    "    \n",
    "    beta5 = (stats.norm.cdf(3 - (k*math.sqrt(N)))) - (stats.norm.cdf(-3 - (k*math.sqrt(N))))\n",
    "    \n",
    "    ARL1_5 = 1/(1-beta5)\n",
    "    \n",
    "    return (print(\n",
    "\n",
    "    \"prob not to find out in a sample\", round(beta5,3),\"\\n\"\n",
    "    \"prob_to_find_out_at_the_x_sampl\" ,round(pow(beta5,x-1)*(1-beta5),3),\"\\n\"\n",
    "    \"average_num_of_runs \", round(ARL1_5,3)))"
   ]
  },
  {
   "cell_type": "code",
   "execution_count": 300,
   "id": "d71d4f6e",
   "metadata": {},
   "outputs": [
    {
     "name": "stdout",
     "output_type": "stream",
     "text": [
      "prob not to find out in a sample 0.362 \n",
      "prob_to_find_out_at_the_x_sampl 0.083 \n",
      "average_num_of_runs  1.566\n"
     ]
    }
   ],
   "source": [
    "prob_to_find_out_at_the_x_sample_by_giving_k(3,1.5)"
   ]
  }
 ],
 "metadata": {
  "kernelspec": {
   "display_name": "Python 3 (ipykernel)",
   "language": "python",
   "name": "python3"
  },
  "language_info": {
   "codemirror_mode": {
    "name": "ipython",
    "version": 3
   },
   "file_extension": ".py",
   "mimetype": "text/x-python",
   "name": "python",
   "nbconvert_exporter": "python",
   "pygments_lexer": "ipython3",
   "version": "3.9.7"
  }
 },
 "nbformat": 4,
 "nbformat_minor": 5
}
