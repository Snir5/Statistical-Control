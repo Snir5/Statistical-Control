{
 "cells": [
  {
   "cell_type": "markdown",
   "id": "267ee328",
   "metadata": {},
   "source": [
    "A factory produces metal hinges. The factory received an order for 500 35 mm long metal hinges.\n",
    "Next the factory received another order of 45 mm long identical metal hinges. At the same time,\n",
    "An additional order with a length of 50 mm was received.\n",
    "The boundary range specifying in all cases is 10 mm.\n",
    "The sample size is 3.\n",
    "Throughout the process as described below, 3 samples were taken.\n",
    "\n",
    "A. Build a nominal control chart for averages and ranges for this process.\n",
    "  Is the process under control?"
   ]
  },
  {
   "cell_type": "code",
   "execution_count": 46,
   "id": "a62a4561",
   "metadata": {},
   "outputs": [],
   "source": [
    "import numpy as np\n",
    "import pandas as pd\n",
    "import scipy.stats as stats\n",
    "import math\n",
    "import matplotlib.pyplot as plt\n",
    "import statistics\n",
    "\n",
    "df = pd.read_csv('Data for nominal control chart.csv', index_col = 0)"
   ]
  },
  {
   "cell_type": "code",
   "execution_count": 47,
   "id": "b59005a0",
   "metadata": {},
   "outputs": [
    {
     "data": {
      "text/html": [
       "<div>\n",
       "<style scoped>\n",
       "    .dataframe tbody tr th:only-of-type {\n",
       "        vertical-align: middle;\n",
       "    }\n",
       "\n",
       "    .dataframe tbody tr th {\n",
       "        vertical-align: top;\n",
       "    }\n",
       "\n",
       "    .dataframe thead th {\n",
       "        text-align: right;\n",
       "    }\n",
       "</style>\n",
       "<table border=\"1\" class=\"dataframe\">\n",
       "  <thead>\n",
       "    <tr style=\"text-align: right;\">\n",
       "      <th></th>\n",
       "      <th>Length  required</th>\n",
       "      <th>M1</th>\n",
       "      <th>M2</th>\n",
       "      <th>M3</th>\n",
       "      <th>x1</th>\n",
       "      <th>x2</th>\n",
       "      <th>x3</th>\n",
       "      <th>average</th>\n",
       "      <th>R</th>\n",
       "    </tr>\n",
       "    <tr>\n",
       "      <th>Sample number</th>\n",
       "      <th></th>\n",
       "      <th></th>\n",
       "      <th></th>\n",
       "      <th></th>\n",
       "      <th></th>\n",
       "      <th></th>\n",
       "      <th></th>\n",
       "      <th></th>\n",
       "      <th></th>\n",
       "    </tr>\n",
       "  </thead>\n",
       "  <tbody>\n",
       "    <tr>\n",
       "      <th>1</th>\n",
       "      <td>35</td>\n",
       "      <td>32</td>\n",
       "      <td>33</td>\n",
       "      <td>33</td>\n",
       "      <td>-3</td>\n",
       "      <td>-2</td>\n",
       "      <td>-2</td>\n",
       "      <td>-2.33</td>\n",
       "      <td>1</td>\n",
       "    </tr>\n",
       "    <tr>\n",
       "      <th>2</th>\n",
       "      <td>35</td>\n",
       "      <td>34</td>\n",
       "      <td>34</td>\n",
       "      <td>36</td>\n",
       "      <td>-1</td>\n",
       "      <td>-1</td>\n",
       "      <td>1</td>\n",
       "      <td>-0.33</td>\n",
       "      <td>2</td>\n",
       "    </tr>\n",
       "    <tr>\n",
       "      <th>3</th>\n",
       "      <td>35</td>\n",
       "      <td>35</td>\n",
       "      <td>36</td>\n",
       "      <td>35</td>\n",
       "      <td>0</td>\n",
       "      <td>1</td>\n",
       "      <td>0</td>\n",
       "      <td>0.33</td>\n",
       "      <td>1</td>\n",
       "    </tr>\n",
       "    <tr>\n",
       "      <th>4</th>\n",
       "      <td>45</td>\n",
       "      <td>42</td>\n",
       "      <td>44</td>\n",
       "      <td>46</td>\n",
       "      <td>-3</td>\n",
       "      <td>-1</td>\n",
       "      <td>1</td>\n",
       "      <td>-1.00</td>\n",
       "      <td>4</td>\n",
       "    </tr>\n",
       "    <tr>\n",
       "      <th>5</th>\n",
       "      <td>45</td>\n",
       "      <td>45</td>\n",
       "      <td>45</td>\n",
       "      <td>48</td>\n",
       "      <td>0</td>\n",
       "      <td>0</td>\n",
       "      <td>3</td>\n",
       "      <td>1.00</td>\n",
       "      <td>3</td>\n",
       "    </tr>\n",
       "    <tr>\n",
       "      <th>6</th>\n",
       "      <td>45</td>\n",
       "      <td>48</td>\n",
       "      <td>47</td>\n",
       "      <td>48</td>\n",
       "      <td>3</td>\n",
       "      <td>2</td>\n",
       "      <td>3</td>\n",
       "      <td>2.67</td>\n",
       "      <td>1</td>\n",
       "    </tr>\n",
       "    <tr>\n",
       "      <th>7</th>\n",
       "      <td>50</td>\n",
       "      <td>52</td>\n",
       "      <td>49</td>\n",
       "      <td>55</td>\n",
       "      <td>2</td>\n",
       "      <td>-1</td>\n",
       "      <td>5</td>\n",
       "      <td>2.00</td>\n",
       "      <td>6</td>\n",
       "    </tr>\n",
       "    <tr>\n",
       "      <th>8</th>\n",
       "      <td>50</td>\n",
       "      <td>55</td>\n",
       "      <td>48</td>\n",
       "      <td>49</td>\n",
       "      <td>5</td>\n",
       "      <td>-2</td>\n",
       "      <td>-1</td>\n",
       "      <td>0.67</td>\n",
       "      <td>7</td>\n",
       "    </tr>\n",
       "    <tr>\n",
       "      <th>9</th>\n",
       "      <td>50</td>\n",
       "      <td>51</td>\n",
       "      <td>50</td>\n",
       "      <td>52</td>\n",
       "      <td>1</td>\n",
       "      <td>0</td>\n",
       "      <td>2</td>\n",
       "      <td>1.00</td>\n",
       "      <td>2</td>\n",
       "    </tr>\n",
       "  </tbody>\n",
       "</table>\n",
       "</div>"
      ],
      "text/plain": [
       "               Length  required  M1  M2  M3  x1  x2  x3  average  R\n",
       "Sample number                                                      \n",
       "1                            35  32  33  33  -3  -2  -2    -2.33  1\n",
       "2                            35  34  34  36  -1  -1   1    -0.33  2\n",
       "3                            35  35  36  35   0   1   0     0.33  1\n",
       "4                            45  42  44  46  -3  -1   1    -1.00  4\n",
       "5                            45  45  45  48   0   0   3     1.00  3\n",
       "6                            45  48  47  48   3   2   3     2.67  1\n",
       "7                            50  52  49  55   2  -1   5     2.00  6\n",
       "8                            50  55  48  49   5  -2  -1     0.67  7\n",
       "9                            50  51  50  52   1   0   2     1.00  2"
      ]
     },
     "execution_count": 47,
     "metadata": {},
     "output_type": "execute_result"
    }
   ],
   "source": [
    "df"
   ]
  },
  {
   "cell_type": "markdown",
   "id": "318841e5",
   "metadata": {},
   "source": [
    "The sample size is fixed and smaller than 10 and no standard deviation is given so we will use a control chart for averages and ranges"
   ]
  },
  {
   "cell_type": "code",
   "execution_count": 48,
   "id": "9264a96f",
   "metadata": {},
   "outputs": [
    {
     "data": {
      "text/plain": [
       "0.44555555555555554"
      ]
     },
     "execution_count": 48,
     "metadata": {},
     "output_type": "execute_result"
    }
   ],
   "source": [
    "CL_AVG = df['average'].mean()\n",
    "CL_AVG"
   ]
  },
  {
   "cell_type": "code",
   "execution_count": 49,
   "id": "1c783892",
   "metadata": {},
   "outputs": [
    {
     "data": {
      "text/plain": [
       "3.515"
      ]
     },
     "execution_count": 49,
     "metadata": {},
     "output_type": "execute_result"
    }
   ],
   "source": [
    "A2 = 1.023\n",
    "UCL_AVG = round(CL_AVG + A2*df['R'].mean(),3)\n",
    "\n",
    "UCL_AVG"
   ]
  },
  {
   "cell_type": "code",
   "execution_count": 50,
   "id": "845f5e48",
   "metadata": {},
   "outputs": [
    {
     "data": {
      "text/plain": [
       "-2.623"
      ]
     },
     "execution_count": 50,
     "metadata": {},
     "output_type": "execute_result"
    }
   ],
   "source": [
    "LCL_AVG = round(CL_AVG - A2*df['R'].mean(),3)\n",
    "\n",
    "LCL_AVG"
   ]
  },
  {
   "cell_type": "code",
   "execution_count": 51,
   "id": "89614f99",
   "metadata": {},
   "outputs": [
    {
     "data": {
      "text/plain": [
       "3.0"
      ]
     },
     "execution_count": 51,
     "metadata": {},
     "output_type": "execute_result"
    }
   ],
   "source": [
    "CL_R = df['R'].mean()\n",
    "CL_R\n"
   ]
  },
  {
   "cell_type": "code",
   "execution_count": 52,
   "id": "e5778fb5",
   "metadata": {},
   "outputs": [
    {
     "data": {
      "text/plain": [
       "7.725"
      ]
     },
     "execution_count": 52,
     "metadata": {},
     "output_type": "execute_result"
    }
   ],
   "source": [
    "D4 = 2.575\n",
    "UCL_R = round(D4*CL_R,3)\n",
    "UCL_R"
   ]
  },
  {
   "cell_type": "code",
   "execution_count": 53,
   "id": "839a5ff4",
   "metadata": {},
   "outputs": [
    {
     "data": {
      "text/plain": [
       "0.0"
      ]
     },
     "execution_count": 53,
     "metadata": {},
     "output_type": "execute_result"
    }
   ],
   "source": [
    "D3 = 0\n",
    "LCL_R = round(D3*CL_R,3)\n",
    "LCL_R"
   ]
  },
  {
   "cell_type": "markdown",
   "id": "2af391bd",
   "metadata": {},
   "source": [
    "# Range chart control"
   ]
  },
  {
   "cell_type": "code",
   "execution_count": 54,
   "id": "41d8f590",
   "metadata": {},
   "outputs": [
    {
     "data": {
      "image/png": "[encoded data removed]",
      "text/plain": [
       "<Figure size 432x288 with 1 Axes>"
      ]
     },
     "metadata": {
      "needs_background": "light"
     },
     "output_type": "display_data"
    }
   ],
   "source": [
    "plt.plot( df.index.values , (np.ones(df.index.max())*UCL_R) ,  label = 'UCL' , color = 'r')\n",
    "\n",
    "\n",
    "plt.plot( df.index.values , (np.ones(df.index.max())*CL_R) ,   label = 'CL', color = 'g')\n",
    "\n",
    "plt.plot( df.index.values , (np.ones(df.index.max())*LCL_R) ,  label = 'LCL',  color = 'b')\n",
    "\n",
    "plt.plot( df.index.values , (df['R']) ,    label = 'Range', color = 'k')\n",
    "\n",
    "\n",
    "plt.legend(bbox_to_anchor=(1.05, 1), loc='upper left', borderaxespad=0.)\n",
    "\n",
    "plt.ylabel(' Sampels Range ', color = 'r' )\n",
    "plt.title('Ranges nominal control chart')\n",
    "plt.xlabel( 'Sample Num', color = 'r' )\n",
    "\n",
    "\n",
    "plt.show()"
   ]
  },
  {
   "cell_type": "markdown",
   "id": "48ad3db7",
   "metadata": {},
   "source": [
    "# Averages control chart"
   ]
  },
  {
   "cell_type": "code",
   "execution_count": 56,
   "id": "c39e3282",
   "metadata": {},
   "outputs": [
    {
     "data": {
      "image/png": "[encoded data removed]",
      "text/plain": [
       "<Figure size 432x288 with 1 Axes>"
      ]
     },
     "metadata": {
      "needs_background": "light"
     },
     "output_type": "display_data"
    }
   ],
   "source": [
    "plt.plot( df.index.values , (np.ones(df.index.max())*UCL_AVG) ,  label = 'UCL' , color = 'r')\n",
    "\n",
    "plt.plot( df.index.values , (np.ones(df.index.max())*CL_AVG) ,   label = 'CL', color = 'g')\n",
    "plt.plot( df.index.values , (df['average']) ,    label = 'Sampels average', color = 'k')\n",
    "\n",
    "\n",
    "plt.plot( df.index.values , (np.ones(df.index.max())*LCL_AVG) ,  label = 'LCL' , color = 'r')\n",
    "\n",
    "\n",
    "plt.legend(bbox_to_anchor=(1.05, 1), loc='upper left', borderaxespad=0.)\n",
    "\n",
    "plt.ylabel(' Sampels Average ', color = 'r' )\n",
    "plt.title('Averages nominal control chart')\n",
    "plt.xlabel( 'Sample Num', color = 'r' )\n",
    "\n",
    "\n",
    "plt.show()\n"
   ]
  },
  {
   "cell_type": "code",
   "execution_count": null,
   "id": "2486eaad",
   "metadata": {},
   "outputs": [],
   "source": []
  },
  {
   "cell_type": "code",
   "execution_count": null,
   "id": "c9757d73",
   "metadata": {},
   "outputs": [],
   "source": []
  }
 ],
 "metadata": {
  "kernelspec": {
   "display_name": "Python 3 (ipykernel)",
   "language": "python",
   "name": "python3"
  },
  "language_info": {
   "codemirror_mode": {
    "name": "ipython",
    "version": 3
   },
   "file_extension": ".py",
   "mimetype": "text/x-python",
   "name": "python",
   "nbconvert_exporter": "python",
   "pygments_lexer": "ipython3",
   "version": "3.9.7"
  }
 },
 "nbformat": 4,
 "nbformat_minor": 5
}
